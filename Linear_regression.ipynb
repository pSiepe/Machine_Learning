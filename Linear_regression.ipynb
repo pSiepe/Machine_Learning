{
 "cells": [
  {
   "cell_type": "markdown",
   "id": "c3ce2d91-5ac3-4ac8-8c65-f1a37db33741",
   "metadata": {},
   "source": [
    "In this small project we want to fit a Linear Regressor to an independent dataset X and the dependent dataset Y. However \n",
    "25 percent of the combined data points are outliers with respect to the data in Y and have to be removed."
   ]
  },
  {
   "cell_type": "code",
   "execution_count": 73,
   "id": "e45ccdbe-888d-4d4b-a210-b73f22c001ee",
   "metadata": {},
   "outputs": [],
   "source": [
    "import numpy as np\n",
    "import pandas as pd"
   ]
  },
  {
   "cell_type": "code",
   "execution_count": 74,
   "id": "9e591c71-0cc2-4f5a-ac93-fb38c5965880",
   "metadata": {},
   "outputs": [],
   "source": [
    "X_train = np.load('/home/internet/Downloads/X_train.npy')\n",
    "\n",
    "Y_train = np.load('/home/internet/Downloads/y_train.npy')"
   ]
  },
  {
   "cell_type": "code",
   "execution_count": 75,
   "id": "11317531-6897-4464-9801-a92db73fc3f0",
   "metadata": {},
   "outputs": [
    {
     "name": "stdout",
     "output_type": "stream",
     "text": [
      "[[ 2.43603602e+02  3.20129329e+02  2.63887099e+02  1.38347154e+02\n",
      "   1.87518604e+02]\n",
      " [ 8.07288058e-01 -3.68178229e-02  6.27205787e+02  1.49999110e+02\n",
      "   1.09295966e+02]\n",
      " [-8.90127732e+01  1.33187018e+00  1.57805750e+02  1.45964094e+02\n",
      "   1.04658223e+02]\n",
      " [-3.00950338e+02 -1.38330765e+01 -8.38057882e+01  1.27188902e+02\n",
      "   8.97627071e+01]\n",
      " [ 3.75153738e+02  1.58006206e+02 -2.72035822e+02  1.11853997e+02\n",
      "   1.61561648e+02]\n",
      " [ 3.09215024e+02 -1.31222983e+00  4.55564317e+01  1.54260779e+02\n",
      "   1.22786378e+02]\n",
      " [ 2.35650507e+02  1.43327670e+02  3.05527650e+02  1.51224951e+02\n",
      "   1.52645096e+02]\n",
      " [ 2.76023088e+02  8.31841400e+01  4.08366035e+02  1.46509192e+02\n",
      "   1.40265753e+02]\n",
      " [-5.72847737e+01  1.81502721e+02  1.05741432e+02  1.30288413e+02\n",
      "   1.46058148e+02]\n",
      " [-1.37409955e+02  2.10888735e+02  1.62544129e+02  1.55424654e+02\n",
      "   1.47178789e+02]]\n",
      "The shape of the input is (200, 5)\n"
     ]
    }
   ],
   "source": [
    "print(X_train[:10])\n",
    "print('The shape of the input is', X_train.shape)"
   ]
  },
  {
   "cell_type": "code",
   "execution_count": 76,
   "id": "0e36ea19-2ca7-4b1a-98b2-20c125d07ca6",
   "metadata": {},
   "outputs": [
    {
     "name": "stdout",
     "output_type": "stream",
     "text": [
      "[-2.73738353 -0.41096878 14.83353307  3.96080398 10.40039261 -0.83868445\n",
      " -1.73503068 -1.81166761 -0.19170165 -0.08824088]\n",
      "The shape of the output is (200,)\n"
     ]
    }
   ],
   "source": [
    "print(Y_train[:10])\n",
    "print('The shape of the output is', Y_train.shape)"
   ]
  },
  {
   "cell_type": "markdown",
   "id": "c3230de8-0b02-44e4-adf1-56233c9c9e6d",
   "metadata": {},
   "source": [
    "For the detection and removal of outliers there are multiple methods. We are going to use isolation forests and the third quartile."
   ]
  },
  {
   "cell_type": "code",
   "execution_count": 77,
   "id": "6a395c0a-7586-4941-934c-6e839908ce23",
   "metadata": {},
   "outputs": [],
   "source": [
    "df = pd.DataFrame(X_train, columns=['X1','X2','X3','X4','X5'])\n",
    "df['Y'] = Y_train"
   ]
  },
  {
   "cell_type": "code",
   "execution_count": 78,
   "id": "87e0ef04-6210-4c81-af64-274834673e97",
   "metadata": {},
   "outputs": [
    {
     "data": {
      "text/html": [
       "<div>\n",
       "<style scoped>\n",
       "    .dataframe tbody tr th:only-of-type {\n",
       "        vertical-align: middle;\n",
       "    }\n",
       "\n",
       "    .dataframe tbody tr th {\n",
       "        vertical-align: top;\n",
       "    }\n",
       "\n",
       "    .dataframe thead th {\n",
       "        text-align: right;\n",
       "    }\n",
       "</style>\n",
       "<table border=\"1\" class=\"dataframe\">\n",
       "  <thead>\n",
       "    <tr style=\"text-align: right;\">\n",
       "      <th></th>\n",
       "      <th>X1</th>\n",
       "      <th>X2</th>\n",
       "      <th>X3</th>\n",
       "      <th>X4</th>\n",
       "      <th>X5</th>\n",
       "      <th>Y</th>\n",
       "    </tr>\n",
       "  </thead>\n",
       "  <tbody>\n",
       "    <tr>\n",
       "      <th>0</th>\n",
       "      <td>243.603602</td>\n",
       "      <td>320.129329</td>\n",
       "      <td>263.887099</td>\n",
       "      <td>138.347154</td>\n",
       "      <td>187.518604</td>\n",
       "      <td>-2.737384</td>\n",
       "    </tr>\n",
       "    <tr>\n",
       "      <th>1</th>\n",
       "      <td>0.807288</td>\n",
       "      <td>-0.036818</td>\n",
       "      <td>627.205787</td>\n",
       "      <td>149.999110</td>\n",
       "      <td>109.295966</td>\n",
       "      <td>-0.410969</td>\n",
       "    </tr>\n",
       "    <tr>\n",
       "      <th>2</th>\n",
       "      <td>-89.012773</td>\n",
       "      <td>1.331870</td>\n",
       "      <td>157.805750</td>\n",
       "      <td>145.964094</td>\n",
       "      <td>104.658223</td>\n",
       "      <td>14.833533</td>\n",
       "    </tr>\n",
       "    <tr>\n",
       "      <th>3</th>\n",
       "      <td>-300.950338</td>\n",
       "      <td>-13.833076</td>\n",
       "      <td>-83.805788</td>\n",
       "      <td>127.188902</td>\n",
       "      <td>89.762707</td>\n",
       "      <td>3.960804</td>\n",
       "    </tr>\n",
       "    <tr>\n",
       "      <th>4</th>\n",
       "      <td>375.153738</td>\n",
       "      <td>158.006206</td>\n",
       "      <td>-272.035822</td>\n",
       "      <td>111.853997</td>\n",
       "      <td>161.561648</td>\n",
       "      <td>10.400393</td>\n",
       "    </tr>\n",
       "    <tr>\n",
       "      <th>5</th>\n",
       "      <td>309.215024</td>\n",
       "      <td>-1.312230</td>\n",
       "      <td>45.556432</td>\n",
       "      <td>154.260779</td>\n",
       "      <td>122.786378</td>\n",
       "      <td>-0.838684</td>\n",
       "    </tr>\n",
       "  </tbody>\n",
       "</table>\n",
       "</div>"
      ],
      "text/plain": [
       "           X1          X2          X3          X4          X5          Y\n",
       "0  243.603602  320.129329  263.887099  138.347154  187.518604  -2.737384\n",
       "1    0.807288   -0.036818  627.205787  149.999110  109.295966  -0.410969\n",
       "2  -89.012773    1.331870  157.805750  145.964094  104.658223  14.833533\n",
       "3 -300.950338  -13.833076  -83.805788  127.188902   89.762707   3.960804\n",
       "4  375.153738  158.006206 -272.035822  111.853997  161.561648  10.400393\n",
       "5  309.215024   -1.312230   45.556432  154.260779  122.786378  -0.838684"
      ]
     },
     "execution_count": 78,
     "metadata": {},
     "output_type": "execute_result"
    }
   ],
   "source": [
    "df.loc[:5]"
   ]
  },
  {
   "cell_type": "code",
   "execution_count": 79,
   "id": "c195005e-a734-4763-b01e-6c2cafdd5887",
   "metadata": {},
   "outputs": [],
   "source": [
    "third_quartile = np.percentile(df['Y'], 75)\n",
    "outliers_quart = df[ df['Y'] >= third_quartile]\n",
    "inliers_quart = df[ df['Y'] < third_quartile]"
   ]
  },
  {
   "cell_type": "markdown",
   "id": "b3be0356-0b1e-4220-9303-9529ae6b08fe",
   "metadata": {},
   "source": [
    "Now we will compute the outliers with an isolation forest and compare the two results to decide which one we will\n",
    "eventually choose for the training of our model."
   ]
  },
  {
   "cell_type": "code",
   "execution_count": 80,
   "id": "0b886242-38f3-43c6-917c-77a44810d8de",
   "metadata": {},
   "outputs": [],
   "source": [
    "from sklearn.ensemble import IsolationForest\n",
    "clf = IsolationForest(contamination=0.25, random_state=0).fit(df[['Y']])\n",
    "df['results'] = clf.predict(df[['Y']]) #returns -1 for outliers and 1 for inliers\n",
    "outliers_iso = df[ df['results'] == -1]\n",
    "inliers_iso = df[ df['results'] == 1]"
   ]
  },
  {
   "cell_type": "code",
   "execution_count": 81,
   "id": "b70552e5-9683-42ba-8dfd-e8efa07300bd",
   "metadata": {},
   "outputs": [
    {
     "data": {
      "text/plain": [
       "50"
      ]
     },
     "execution_count": 81,
     "metadata": {},
     "output_type": "execute_result"
    }
   ],
   "source": [
    "len(outliers_quart['Y'])"
   ]
  },
  {
   "cell_type": "code",
   "execution_count": 82,
   "id": "2a912964-2f75-4e06-a1d5-728847edae20",
   "metadata": {},
   "outputs": [
    {
     "data": {
      "image/png": "[encoded data removed]",
      "text/plain": [
       "<Figure size 640x480 with 1 Axes>"
      ]
     },
     "metadata": {},
     "output_type": "display_data"
    }
   ],
   "source": [
    "import matplotlib.pyplot as plt\n",
    "plt.hist([outliers_quart['Y'].to_numpy(), outliers_iso['Y'].to_numpy()], bins=30, color=['cyan', 'Purple'], edgecolor='black')\n",
    " \n",
    "plt.xlabel('y-values')\n",
    "plt.ylabel('Frequency')\n",
    "plt.title('Outlier occurences')\n",
    " \n",
    "plt.legend(['Quartile', 'IsoForest'])\n",
    " \n",
    "plt.show()"
   ]
  },
  {
   "cell_type": "markdown",
   "id": "17b7cfc8-102e-4487-9dc8-9b63ede2e3c8",
   "metadata": {},
   "source": [
    "It seems like the quartile method returns outliers that are not as much spread apart. The values tend to bunch up somewhere around 10. To make this observation more precise, we are going to calculate the mean and the variance of the cleaned dateset.\n"
   ]
  },
  {
   "cell_type": "code",
   "execution_count": 83,
   "id": "fcaf4646-7d9f-45df-8118-6ab5515d6ad3",
   "metadata": {},
   "outputs": [
    {
     "name": "stdout",
     "output_type": "stream",
     "text": [
      "+----------+-----------+----------+\n",
      "|          |       Iso |    Quart |\n",
      "+==========+===========+==========+\n",
      "| mean     | -0.226596 | -0.866   |\n",
      "+----------+-----------+----------+\n",
      "| variance |  4.99043  |  1.67708 |\n",
      "+----------+-----------+----------+\n"
     ]
    }
   ],
   "source": [
    "from tabulate import tabulate\n",
    "mydata = [\n",
    "    [\"mean\", str(np.mean(inliers_iso['Y'])), str(np.mean(inliers_quart['Y']))], \n",
    "    [\"variance\", str(np.var(inliers_iso['Y'])), str(np.var(inliers_quart['Y']))], \n",
    "]\n",
    " \n",
    "# create header\n",
    "head = [\"\",\"Iso\", \"Quart\"]\n",
    " \n",
    "# display table\n",
    "print(tabulate(mydata, headers=head, tablefmt=\"grid\"))"
   ]
  },
  {
   "cell_type": "markdown",
   "id": "b6d5141e-6e47-473a-926b-1f64af8eeea7",
   "metadata": {},
   "source": [
    "As the variance of the data obtained by applying the quartile method is lower, we are going to opt for this data set. Our assumpution is that this will help to train the model. We will now proceed to use the Lasso regularization for training. This helps to discard the features that are less important by setting their coefficients to zero. As a hyperparameter we go for alpha = 0.01 since this is a common choice."
   ]
  },
  {
   "cell_type": "code",
   "execution_count": 84,
   "id": "76deda61-ec32-410d-a658-68193777a365",
   "metadata": {},
   "outputs": [
    {
     "name": "stdout",
     "output_type": "stream",
     "text": [
      "[-0.00483085 -0.00559287 -0.0018288  -0.         -0.        ]\n",
      "[0.74130235]\n"
     ]
    }
   ],
   "source": [
    "from sklearn import linear_model\n",
    "clf = linear_model.Lasso(alpha=0.1)\n",
    "clf.fit(inliers_quart[['X1','X2','X3','X4','X5']].loc[:150], inliers_quart[['Y']].loc[:150])\n",
    "print(clf.coef_)\n",
    "print(clf.intercept_)"
   ]
  },
  {
   "cell_type": "code",
   "execution_count": 85,
   "id": "6d18e4e1-6f7f-4158-848d-9dbe8e2aae18",
   "metadata": {},
   "outputs": [
    {
     "name": "stdout",
     "output_type": "stream",
     "text": [
      "0.012965923903467135\n"
     ]
    }
   ],
   "source": [
    "# run a test to evaluate the performance:\n",
    "from sklearn.metrics import mean_squared_error\n",
    "y_pred = clf.predict(inliers_quart[['X1','X2','X3','X4','X5']].loc[150:])\n",
    "print(mean_squared_error(inliers_quart[['Y']].loc[150:], y_pred))"
   ]
  },
  {
   "cell_type": "code",
   "execution_count": null,
   "id": "222c5db1-8543-4fa9-9300-f5cb8d01c316",
   "metadata": {},
   "outputs": [],
   "source": []
  }
 ],
 "metadata": {
  "kernelspec": {
   "display_name": "Python 3 (ipykernel)",
   "language": "python",
   "name": "python3"
  },
  "language_info": {
   "codemirror_mode": {
    "name": "ipython",
    "version": 3
   },
   "file_extension": ".py",
   "mimetype": "text/x-python",
   "name": "python",
   "nbconvert_exporter": "python",
   "pygments_lexer": "ipython3",
   "version": "3.10.12"
  }
 },
 "nbformat": 4,
 "nbformat_minor": 5
}
